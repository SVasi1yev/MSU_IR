{
 "cells": [
  {
   "cell_type": "code",
   "execution_count": 1,
   "id": "91a8457a",
   "metadata": {},
   "outputs": [],
   "source": [
    "from pymystem3 import Mystem\n",
    "import collections\n",
    "from tqdm import tqdm"
   ]
  },
  {
   "cell_type": "code",
   "execution_count": 2,
   "id": "cd1b2775",
   "metadata": {},
   "outputs": [],
   "source": [
    "stem = Mystem()"
   ]
  },
  {
   "cell_type": "code",
   "execution_count": 3,
   "id": "844cd25e",
   "metadata": {},
   "outputs": [
    {
     "name": "stdout",
     "output_type": "stream",
     "text": [
      "ЧАСТЬ ПЕРВАЯ\n",
      "\n",
      "\n",
      "\n",
      "I\n",
      "\n",
      "Все счастливые семьи похожи друг на друга, каждая несчастливая семья несчастлива по-своему.\n",
      "\n",
      "Все смешалось в доме Облонских. Жена узнала, что муж был в связи с бывшею в их доме француженкою-гувернанткой, и объявила мужу, что не может жить с ним в одном доме. Положение это продолжалось уже третий день и мучительно чувствовалось и самими супругами, и всеми членами семьи, и домочадцами. Все члены семьи и домочадцы чувствовали, что нет смысла в их сожительстве и что на каждом пост\n"
     ]
    }
   ],
   "source": [
    "with open('Анна Каренина.txt', 'r', encoding='cp1251') as f:\n",
    "    text = f.read()\n",
    "print(text[:500])"
   ]
  },
  {
   "cell_type": "code",
   "execution_count": 4,
   "id": "59adc125",
   "metadata": {},
   "outputs": [],
   "source": [
    "import re\n",
    "\n",
    "SPLIT_RGX = re.compile(u'[A-Za-zА-Яа-я0-9]+', re.UNICODE)\n",
    "\n",
    "def split(string):\n",
    "    words = re.findall(SPLIT_RGX, string)\n",
    "    return words"
   ]
  },
  {
   "cell_type": "code",
   "execution_count": 5,
   "id": "b63ce8b0",
   "metadata": {},
   "outputs": [],
   "source": [
    "words = split(text.lower())"
   ]
  },
  {
   "cell_type": "code",
   "execution_count": 6,
   "id": "d894d973",
   "metadata": {},
   "outputs": [
    {
     "data": {
      "text/plain": [
       "['часть',\n",
       " 'первая',\n",
       " 'i',\n",
       " 'все',\n",
       " 'счастливые',\n",
       " 'семьи',\n",
       " 'похожи',\n",
       " 'друг',\n",
       " 'на',\n",
       " 'друга']"
      ]
     },
     "execution_count": 6,
     "metadata": {},
     "output_type": "execute_result"
    }
   ],
   "source": [
    "words[:10]"
   ]
  },
  {
   "cell_type": "code",
   "execution_count": 7,
   "id": "bab3ec19",
   "metadata": {},
   "outputs": [
    {
     "name": "stderr",
     "output_type": "stream",
     "text": [
      "100%|██████████| 271346/271346 [00:01<00:00, 136046.81it/s]\n"
     ]
    }
   ],
   "source": [
    "word2lemma = {}\n",
    "lemmas = collections.defaultdict(int)\n",
    "for word in tqdm(words):\n",
    "    if word in word2lemma:\n",
    "        lemma = word2lemma[word]\n",
    "    else:\n",
    "        lemma = stem.lemmatize(word)[0]\n",
    "        word2lemma[word] = lemma\n",
    "    lemmas[lemma] += 1"
   ]
  },
  {
   "cell_type": "code",
   "execution_count": 12,
   "id": "274bdf16",
   "metadata": {},
   "outputs": [],
   "source": [
    "lemmas_counts = sorted(lemmas.items(), key=lambda x: -x[1])"
   ]
  },
  {
   "cell_type": "code",
   "execution_count": 14,
   "id": "faeb5737",
   "metadata": {},
   "outputs": [],
   "source": [
    "with open('lemmas_list', 'w') as f:\n",
    "    for e in lemmas_counts:\n",
    "        f.write(f'{e[0]}: {e[1]}\\n')"
   ]
  },
  {
   "cell_type": "code",
   "execution_count": null,
   "id": "93bd282d",
   "metadata": {},
   "outputs": [],
   "source": []
  }
 ],
 "metadata": {
  "kernelspec": {
   "display_name": "Python 3",
   "language": "python",
   "name": "python3"
  },
  "language_info": {
   "codemirror_mode": {
    "name": "ipython",
    "version": 3
   },
   "file_extension": ".py",
   "mimetype": "text/x-python",
   "name": "python",
   "nbconvert_exporter": "python",
   "pygments_lexer": "ipython3",
   "version": "3.8.8"
  }
 },
 "nbformat": 4,
 "nbformat_minor": 5
}
