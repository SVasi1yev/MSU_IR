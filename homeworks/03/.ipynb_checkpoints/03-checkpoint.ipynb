{
 "cells": [
  {
   "cell_type": "code",
   "execution_count": 5,
   "id": "9d158a33",
   "metadata": {},
   "outputs": [],
   "source": [
    "import numpy as np\n",
    "import pandas as pd"
   ]
  },
  {
   "cell_type": "code",
   "execution_count": 6,
   "id": "561b0801",
   "metadata": {},
   "outputs": [
    {
     "data": {
      "text/plain": [
       "array([0.71356397, 0.        , 0.70059008, 0.        ])"
      ]
     },
     "execution_count": 6,
     "metadata": {},
     "output_type": "execute_result"
    }
   ],
   "source": [
    "x = np.array([1.65, 0, 1.62, 0])\n",
    "x / np.linalg.norm(x)"
   ]
  },
  {
   "cell_type": "code",
   "execution_count": 7,
   "id": "5c3fc59f",
   "metadata": {},
   "outputs": [
    {
     "data": {
      "text/plain": [
       "1.0"
      ]
     },
     "execution_count": 7,
     "metadata": {},
     "output_type": "execute_result"
    }
   ],
   "source": [
    "a = np.array([0.6205599665691601, 0.08692018386961974, 0.0, 0.29251984956122024])\n",
    "a.sum()"
   ]
  },
  {
   "cell_type": "code",
   "execution_count": 8,
   "id": "bbf066b6",
   "metadata": {},
   "outputs": [],
   "source": [
    "data = pd.DataFrame({\n",
    "    'df': [18165, 6723, 19241, 25235],\n",
    "    'idf': [1.65, 2.08, 1.62, 1.5],\n",
    "    'd1': [27, 3, 0, 14],\n",
    "    'd2': [4, 33, 33, 0],\n",
    "    'd3': [24, 0, 29, 17],\n",
    "    'q': [1, 0, 1, 0]\n",
    "})\n",
    "data.index = ['car', 'auto', 'insurance', 'best']"
   ]
  },
  {
   "cell_type": "code",
   "execution_count": 9,
   "id": "4b36d127",
   "metadata": {},
   "outputs": [
    {
     "data": {
      "text/html": [
       "<div>\n",
       "<style scoped>\n",
       "    .dataframe tbody tr th:only-of-type {\n",
       "        vertical-align: middle;\n",
       "    }\n",
       "\n",
       "    .dataframe tbody tr th {\n",
       "        vertical-align: top;\n",
       "    }\n",
       "\n",
       "    .dataframe thead th {\n",
       "        text-align: right;\n",
       "    }\n",
       "</style>\n",
       "<table border=\"1\" class=\"dataframe\">\n",
       "  <thead>\n",
       "    <tr style=\"text-align: right;\">\n",
       "      <th></th>\n",
       "      <th>df</th>\n",
       "      <th>idf</th>\n",
       "      <th>d1</th>\n",
       "      <th>d2</th>\n",
       "      <th>d3</th>\n",
       "      <th>q</th>\n",
       "    </tr>\n",
       "  </thead>\n",
       "  <tbody>\n",
       "    <tr>\n",
       "      <th>car</th>\n",
       "      <td>18165</td>\n",
       "      <td>1.65</td>\n",
       "      <td>27</td>\n",
       "      <td>4</td>\n",
       "      <td>24</td>\n",
       "      <td>1</td>\n",
       "    </tr>\n",
       "    <tr>\n",
       "      <th>auto</th>\n",
       "      <td>6723</td>\n",
       "      <td>2.08</td>\n",
       "      <td>3</td>\n",
       "      <td>33</td>\n",
       "      <td>0</td>\n",
       "      <td>0</td>\n",
       "    </tr>\n",
       "    <tr>\n",
       "      <th>insurance</th>\n",
       "      <td>19241</td>\n",
       "      <td>1.62</td>\n",
       "      <td>0</td>\n",
       "      <td>33</td>\n",
       "      <td>29</td>\n",
       "      <td>1</td>\n",
       "    </tr>\n",
       "    <tr>\n",
       "      <th>best</th>\n",
       "      <td>25235</td>\n",
       "      <td>1.50</td>\n",
       "      <td>14</td>\n",
       "      <td>0</td>\n",
       "      <td>17</td>\n",
       "      <td>0</td>\n",
       "    </tr>\n",
       "  </tbody>\n",
       "</table>\n",
       "</div>"
      ],
      "text/plain": [
       "              df   idf  d1  d2  d3  q\n",
       "car        18165  1.65  27   4  24  1\n",
       "auto        6723  2.08   3  33   0  0\n",
       "insurance  19241  1.62   0  33  29  1\n",
       "best       25235  1.50  14   0  17  0"
      ]
     },
     "execution_count": 9,
     "metadata": {},
     "output_type": "execute_result"
    }
   ],
   "source": [
    "data"
   ]
  },
  {
   "cell_type": "code",
   "execution_count": 10,
   "id": "75e22d36",
   "metadata": {},
   "outputs": [],
   "source": [
    "def f1(data, name):\n",
    "    v = data[name] * data['idf']\n",
    "    v1 = v/np.linalg.norm(v)\n",
    "    q = data['q'] * data['idf']\n",
    "    q1 = q/np.linalg.norm(q)\n",
    "#     print(q1, v1)\n",
    "    score = q1.dot(v1)\n",
    "    return v.values, v1.values, score"
   ]
  },
  {
   "cell_type": "code",
   "execution_count": 11,
   "id": "391cf5d6",
   "metadata": {},
   "outputs": [],
   "source": [
    "def f2(data, name):\n",
    "    v = np.log(1 + data[name]) * data['idf']\n",
    "    v1 = v/np.linalg.norm(v)\n",
    "    q = np.log(1 + data['q']) * data['idf']\n",
    "    q1 = q/np.linalg.norm(q)\n",
    "#     print(q1, v1)\n",
    "    score = q1.dot(v1)\n",
    "    return v.values, v1.values, score"
   ]
  },
  {
   "cell_type": "code",
   "execution_count": 12,
   "id": "09627026",
   "metadata": {},
   "outputs": [
    {
     "data": {
      "text/plain": [
       "(array([1.14369285, 0.        , 1.12289843, 0.        ]),\n",
       " array([0.71356397, 0.        , 0.70059008, 0.        ]),\n",
       " 1.0)"
      ]
     },
     "execution_count": 12,
     "metadata": {},
     "output_type": "execute_result"
    }
   ],
   "source": [
    "f2(data, 'q')"
   ]
  },
  {
   "cell_type": "code",
   "execution_count": null,
   "id": "ea6e633e",
   "metadata": {},
   "outputs": [],
   "source": []
  }
 ],
 "metadata": {
  "kernelspec": {
   "display_name": "Python 3",
   "language": "python",
   "name": "python3"
  },
  "language_info": {
   "codemirror_mode": {
    "name": "ipython",
    "version": 3
   },
   "file_extension": ".py",
   "mimetype": "text/x-python",
   "name": "python",
   "nbconvert_exporter": "python",
   "pygments_lexer": "ipython3",
   "version": "3.8.8"
  }
 },
 "nbformat": 4,
 "nbformat_minor": 5
}
