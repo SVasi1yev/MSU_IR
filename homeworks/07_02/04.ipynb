{
 "cells": [
  {
   "cell_type": "code",
   "execution_count": 1,
   "id": "f23050f3",
   "metadata": {},
   "outputs": [],
   "source": [
    "import numpy as np\n",
    "import pandas as pd\n",
    "import pymystem3\n",
    "import razdel\n",
    "from sklearn.metrics.pairwise import cosine_similarity\n",
    "\n",
    "from collections import defaultdict"
   ]
  },
  {
   "cell_type": "code",
   "execution_count": 2,
   "id": "63384d95",
   "metadata": {},
   "outputs": [],
   "source": [
    "import re\n",
    "\n",
    "SPLIT_RGX = re.compile(u'[A-Za-zА-Яа-я0-9]+', re.UNICODE)\n",
    "\n",
    "def split(string):\n",
    "    words = re.findall(SPLIT_RGX, string)\n",
    "    return words"
   ]
  },
  {
   "cell_type": "code",
   "execution_count": 3,
   "id": "c631b99c",
   "metadata": {},
   "outputs": [],
   "source": [
    "stem = pymystem3.Mystem()"
   ]
  },
  {
   "cell_type": "code",
   "execution_count": 4,
   "id": "9ac5cf86",
   "metadata": {},
   "outputs": [],
   "source": [
    "def get_docs(file_name):\n",
    "    init_docs = []\n",
    "    docs = []\n",
    "    with open(file_name, 'r') as f:\n",
    "        for line in f:\n",
    "            t = razdel.sentenize(line)\n",
    "            for e in t:\n",
    "                init_docs.append(e.text.strip())\n",
    "                lemmas = stem.lemmatize(e.text)\n",
    "                doc = ''.join(lemmas)\n",
    "                words = split(doc)\n",
    "                docs.append(words)\n",
    "                \n",
    "    return init_docs, docs"
   ]
  },
  {
   "cell_type": "code",
   "execution_count": 5,
   "id": "e4034d34",
   "metadata": {},
   "outputs": [],
   "source": [
    "def get_vocab(docs):\n",
    "    lemmas = set()\n",
    "    for d in docs:\n",
    "        for lemma in d:\n",
    "            lemmas.add(lemma)\n",
    "            \n",
    "    lemma2id = {lemma: i for i, lemma in enumerate(lemmas)}\n",
    "    \n",
    "    return lemma2id"
   ]
  },
  {
   "cell_type": "code",
   "execution_count": 6,
   "id": "65a535f9",
   "metadata": {},
   "outputs": [],
   "source": [
    "def get_tf_idf(lemma2id, docs):\n",
    "    vocab_len = len(lemma2id)\n",
    "    \n",
    "    df = np.zeros(vocab_len)\n",
    "    tfs = []\n",
    "    for d in docs:\n",
    "        tfs.append(np.zeros(vocab_len))\n",
    "        for lemma in set(d):\n",
    "            if lemma not in lemma2id:\n",
    "                continue\n",
    "            df[lemma2id[lemma]] += 1\n",
    "        for lemma in d:\n",
    "            if lemma not in lemma2id:\n",
    "                continue\n",
    "            tfs[-1][lemma2id[lemma]] += 1\n",
    "    \n",
    "    idf = np.log(len(docs)/df)\n",
    "    tfs = np.vstack(tfs)\n",
    "    \n",
    "    return tfs, idf"
   ]
  },
  {
   "cell_type": "code",
   "execution_count": 7,
   "id": "1e882b11",
   "metadata": {},
   "outputs": [],
   "source": [
    "def model_01(tfs, idf):\n",
    "    t = tfs * idf\n",
    "    t = t / np.linalg.norm(t, axis=1).reshape(-1, 1)\n",
    "    return t\n",
    "\n",
    "def model_02(tfs, idf):\n",
    "    t = ((0.5 + 0.5 * (tfs / tfs.max(axis=1).reshape(-1, 1))) * (tfs > 0) )* idf\n",
    "    t = t / np.linalg.norm(t, axis=1).reshape(-1, 1)\n",
    "    return t"
   ]
  },
  {
   "cell_type": "code",
   "execution_count": 8,
   "id": "c002ec2f",
   "metadata": {},
   "outputs": [],
   "source": [
    "init_docs, docs = get_docs('docs.txt')"
   ]
  },
  {
   "cell_type": "code",
   "execution_count": 9,
   "id": "a3ba9577",
   "metadata": {},
   "outputs": [],
   "source": [
    "lemma2id = get_vocab(docs)"
   ]
  },
  {
   "cell_type": "code",
   "execution_count": 10,
   "id": "c9500a40",
   "metadata": {},
   "outputs": [],
   "source": [
    "docs_tfs, idf = get_tf_idf(lemma2id, docs)"
   ]
  },
  {
   "cell_type": "code",
   "execution_count": 11,
   "id": "bc4fd446",
   "metadata": {},
   "outputs": [],
   "source": [
    "doc_m_1 = model_01(docs_tfs, idf)\n",
    "doc_m_2 = model_02(docs_tfs, idf)"
   ]
  },
  {
   "cell_type": "code",
   "execution_count": 12,
   "id": "02e6762f",
   "metadata": {},
   "outputs": [],
   "source": [
    "init_qs, qs = get_docs('queries.txt')"
   ]
  },
  {
   "cell_type": "code",
   "execution_count": 13,
   "id": "f057bba0",
   "metadata": {},
   "outputs": [
    {
     "name": "stderr",
     "output_type": "stream",
     "text": [
      "<ipython-input-6-438d3ddde6f4>:17: RuntimeWarning: divide by zero encountered in true_divide\n",
      "  idf = np.log(len(docs)/df)\n"
     ]
    }
   ],
   "source": [
    "qs_tfs, _ = get_tf_idf(lemma2id,qs)"
   ]
  },
  {
   "cell_type": "code",
   "execution_count": 14,
   "id": "026d7d7c",
   "metadata": {},
   "outputs": [],
   "source": [
    "qs_m_1 = model_01(qs_tfs, idf)\n",
    "qs_m_2 = model_02(qs_tfs, idf)"
   ]
  },
  {
   "cell_type": "code",
   "execution_count": 15,
   "id": "7c10480c",
   "metadata": {},
   "outputs": [],
   "source": [
    "scores_m_1 = cosine_similarity(doc_m_1, qs_m_1)"
   ]
  },
  {
   "cell_type": "code",
   "execution_count": 16,
   "id": "0c7cdedb",
   "metadata": {},
   "outputs": [],
   "source": [
    "scores_m_2 = cosine_similarity(doc_m_2, qs_m_2)"
   ]
  },
  {
   "cell_type": "code",
   "execution_count": 17,
   "id": "ba788d22",
   "metadata": {},
   "outputs": [],
   "source": [
    "def make_report(file_name, init_qs, init_docs, scores, top_k=10):\n",
    "    init_qs = np.array(init_qs)\n",
    "    init_docs = np.array(init_docs)\n",
    "    with open(file_name, 'w') as f:\n",
    "        for i in range(len(init_qs)):\n",
    "            f.write(f'Query {i+1}: {init_qs[i]}\\n')\n",
    "            f.write(f'Top {top_k}:\\n')\n",
    "            for k, idx in enumerate(scores[:, i].argsort()[::-1][:top_k]):\n",
    "                f.write(f'{k+1} ({round(scores[:, i][idx], 5)}): {init_docs[idx]}\\n')\n",
    "            f.write(20*'#' + '\\n')"
   ]
  },
  {
   "cell_type": "code",
   "execution_count": 18,
   "id": "41153459",
   "metadata": {},
   "outputs": [],
   "source": [
    "make_report('report_m_1.txt', init_qs, init_docs, scores_m_1)"
   ]
  },
  {
   "cell_type": "code",
   "execution_count": 19,
   "id": "3369fe3d",
   "metadata": {},
   "outputs": [],
   "source": [
    "make_report('report_m_2.txt', init_qs, init_docs, scores_m_2)"
   ]
  }
 ],
 "metadata": {
  "kernelspec": {
   "display_name": "Python 3",
   "language": "python",
   "name": "python3"
  },
  "language_info": {
   "codemirror_mode": {
    "name": "ipython",
    "version": 3
   },
   "file_extension": ".py",
   "mimetype": "text/x-python",
   "name": "python",
   "nbconvert_exporter": "python",
   "pygments_lexer": "ipython3",
   "version": "3.8.8"
  }
 },
 "nbformat": 4,
 "nbformat_minor": 5
}
