{
 "cells": [
  {
   "cell_type": "code",
   "execution_count": 1,
   "id": "4b49352e",
   "metadata": {},
   "outputs": [],
   "source": [
    "import numpy as np\n",
    "import pandas as pd\n",
    "import pymystem3\n",
    "import razdel\n",
    "import json\n",
    "from sklearn.metrics.pairwise import cosine_similarity\n",
    "\n",
    "from collections import defaultdict"
   ]
  },
  {
   "cell_type": "code",
   "execution_count": 2,
   "id": "6363a42c",
   "metadata": {},
   "outputs": [],
   "source": [
    "import re\n",
    "\n",
    "SPLIT_RGX = re.compile(u'[A-Za-zА-Яа-я0-9]+', re.UNICODE)\n",
    "\n",
    "def split(string):\n",
    "    words = re.findall(SPLIT_RGX, string)\n",
    "    return words"
   ]
  },
  {
   "cell_type": "code",
   "execution_count": 3,
   "id": "14040b3c",
   "metadata": {},
   "outputs": [],
   "source": [
    "stem = pymystem3.Mystem()"
   ]
  },
  {
   "cell_type": "code",
   "execution_count": 4,
   "id": "be5ff70a",
   "metadata": {},
   "outputs": [],
   "source": [
    "def get_docs(file_name):\n",
    "#     init_docs = []\n",
    "    docs = []\n",
    "    with open(file_name, 'r') as f:\n",
    "        for i, line in enumerate(f):\n",
    "            t = razdel.sentenize(line)\n",
    "            for e in t:\n",
    "                d = {}\n",
    "                d['q_idx'] = i\n",
    "                d['init'] = e.text.strip()\n",
    "#                 init_docs.append((i, e.text.strip()))\n",
    "                lemmas = stem.lemmatize(e.text)\n",
    "                doc = ''.join(lemmas)\n",
    "                words = split(doc)\n",
    "                d['lemmas'] = words\n",
    "#                 docs.append((i, words))\n",
    "                docs.append(d)\n",
    "    return docs"
   ]
  },
  {
   "cell_type": "code",
   "execution_count": 5,
   "id": "022d865c",
   "metadata": {},
   "outputs": [],
   "source": [
    "def get_vocab(docs):\n",
    "    lemmas = set()\n",
    "    for d in docs:\n",
    "        for lemma in d['lemmas']:\n",
    "            lemmas.add(lemma)\n",
    "            \n",
    "    lemma2id = {lemma: i for i, lemma in enumerate(lemmas)}\n",
    "    \n",
    "    return lemma2id"
   ]
  },
  {
   "cell_type": "code",
   "execution_count": 6,
   "id": "3e1188d1",
   "metadata": {},
   "outputs": [],
   "source": [
    "def get_tf_idf(lemma2id, docs):\n",
    "    vocab_len = len(lemma2id)\n",
    "    \n",
    "    df = np.zeros(vocab_len)\n",
    "    tfs = []\n",
    "    for d in docs:\n",
    "        tfs.append(np.zeros(vocab_len))\n",
    "        for lemma in set(d['lemmas']):\n",
    "            if lemma not in lemma2id:\n",
    "                continue\n",
    "            df[lemma2id[lemma]] += 1\n",
    "        for lemma in d['lemmas']:\n",
    "            if lemma not in lemma2id:\n",
    "                continue\n",
    "            tfs[-1][lemma2id[lemma]] += 1\n",
    "    \n",
    "    idf = np.log(len(docs)/df)\n",
    "    tfs = np.vstack(tfs)\n",
    "    \n",
    "    return tfs, idf"
   ]
  },
  {
   "cell_type": "code",
   "execution_count": 20,
   "id": "4efcffd4",
   "metadata": {},
   "outputs": [],
   "source": [
    "def model_01(tfs, idf):\n",
    "    t = tfs * idf\n",
    "    t = t / np.linalg.norm(t, axis=1).reshape(-1, 1)\n",
    "    return t\n",
    "\n",
    "def model_02(tfs, idf):\n",
    "    t = ((0.5 + 0.5 * (tfs / tfs.max(axis=1).reshape(-1, 1))) * (tfs > 0) )* idf\n",
    "    t = t / np.linalg.norm(t, axis=1).reshape(-1, 1)\n",
    "    return t\n",
    "\n",
    "def prop_model(docs_tfs, qs_tfs, alpha):\n",
    "    glob_props = docs_tfs.sum(axis=0)\n",
    "    glob_props /= glob_props.sum()\n",
    "    scores = []\n",
    "    loc_props = docs_tfs / docs_tfs.sum(axis=1).reshape(-1, 1)\n",
    "    for i in range(qs_tfs.shape[0]):\n",
    "        scores.append((\n",
    "            np.log(0.000001 +((1-alpha)*glob_props + alpha*loc_props)) *\n",
    "            (qs_tfs[i] > 0).astype(int)\n",
    "         ).sum(axis=1))\n",
    "    scores = np.array(scores)\n",
    "    return scores.T"
   ]
  },
  {
   "cell_type": "code",
   "execution_count": 8,
   "id": "dabd0e2e",
   "metadata": {},
   "outputs": [],
   "source": [
    "with open('rated_docs.json') as f:\n",
    "    docs = json.load(f)\n",
    "for i in range(len(docs)):\n",
    "    r = int(docs[i]['rating'])\n",
    "    rating = [0, 0, 0]\n",
    "    rating[docs[i]['q_idx']] = r\n",
    "    docs[i]['rating'] = rating"
   ]
  },
  {
   "cell_type": "code",
   "execution_count": 9,
   "id": "9eafdfd6",
   "metadata": {},
   "outputs": [],
   "source": [
    "scores = []\n",
    "for d in docs:\n",
    "    scores.append(d['rating'])\n",
    "scores = np.array(scores)"
   ]
  },
  {
   "cell_type": "code",
   "execution_count": 10,
   "id": "bb37a541",
   "metadata": {},
   "outputs": [],
   "source": [
    "lemma2id = get_vocab(docs)\n",
    "docs_tfs, idf = get_tf_idf(lemma2id, docs)\n",
    "doc_m_1 = model_01(docs_tfs, idf)\n",
    "doc_m_2 = model_02(docs_tfs, idf)"
   ]
  },
  {
   "cell_type": "code",
   "execution_count": 11,
   "id": "2ed01efa",
   "metadata": {},
   "outputs": [
    {
     "name": "stderr",
     "output_type": "stream",
     "text": [
      "/tmp/ipykernel_7976/1109202693.py:17: RuntimeWarning: divide by zero encountered in true_divide\n",
      "  idf = np.log(len(docs)/df)\n"
     ]
    }
   ],
   "source": [
    "qs = get_docs('queries.txt')\n",
    "qs_tfs, _ = get_tf_idf(lemma2id, qs)\n",
    "qs_m_1 = model_01(qs_tfs, idf)\n",
    "qs_m_2 = model_02(qs_tfs, idf)"
   ]
  },
  {
   "cell_type": "code",
   "execution_count": 12,
   "id": "07b9170d",
   "metadata": {},
   "outputs": [],
   "source": [
    "scores_m_1 = cosine_similarity(doc_m_1, qs_m_1)\n",
    "scores_m_2 = cosine_similarity(doc_m_2, qs_m_2)"
   ]
  },
  {
   "cell_type": "code",
   "execution_count": 13,
   "id": "86f63761",
   "metadata": {},
   "outputs": [],
   "source": [
    "scores_prop_05 = prop_model(docs_tfs, qs_tfs, 0.5)\n",
    "scores_prop_09 = prop_model(docs_tfs, qs_tfs, 0.9)"
   ]
  },
  {
   "cell_type": "code",
   "execution_count": 14,
   "id": "6c70c420",
   "metadata": {},
   "outputs": [],
   "source": [
    "def dcg(scores, model_scores, k=10):\n",
    "    return (scores[model_scores.argsort()[::-1]][:k] / np.log2(np.arange(k) + 2)).sum()\n",
    "\n",
    "def ndcg(scores, model_scores, k=10):\n",
    "    dcg_ = dcg(scores, model_scores, k)\n",
    "    idcg_ = dcg(scores, scores, k)\n",
    "    return dcg_ / idcg_\n",
    "\n",
    "def make_report(docs, qs, scores, model_scores, top_k=10, dcg_k=10):\n",
    "    for i in range(len(qs)):\n",
    "        print(f'Query {i+1}: {qs[i][\"init\"]}\\n')\n",
    "        print(f'NDCG: {ndcg(scores[:, i], model_scores[:, i], dcg_k)}')\n",
    "        print(f'Top {top_k}:\\n')\n",
    "        for k, idx in enumerate(model_scores[:, i].argsort()[::-1][:top_k]):\n",
    "            print(f'{k+1} (true: {round(scores[:, i][idx], 5)}) (model: {round(model_scores[:, i][idx], 5)}): {docs[idx][\"init\"]}\\n')\n",
    "        print(20*'#' + '\\n')"
   ]
  },
  {
   "cell_type": "code",
   "execution_count": 21,
   "id": "82d1541a",
   "metadata": {},
   "outputs": [
    {
     "name": "stdout",
     "output_type": "stream",
     "text": [
      "Query 1: Ракетный корпус княжества Майсур в 1780 году нанёс британской армии одно из самых тяжёлых поражений.\n",
      "\n",
      "NDCG: 0.3584586760037692\n",
      "Top 10:\n",
      "\n",
      "1 (true: 0) (model: 0.75316): Княжество Майсур.\n",
      "\n",
      "2 (true: 1) (model: 0.39082): Майсур стал первым индусским туземным княжеством в Британской Индии.\n",
      "\n",
      "3 (true: 2) (model: 0.38578): Во время Второй англо-майсурской войны в битве при Поллилуреruen (1780 год) разрушительный обстрел ракетного корпуса Типу поджёг склады боеприпасов Ост-Индской компании, нанеся британской армии одно из самых тяжёлых поражений в Индии.\n",
      "\n",
      "4 (true: 0) (model: 0.38112): Ранние годы.\n",
      "\n",
      "5 (true: 0) (model: 0.31842): В годы Великой Отечественной войны проживал в Москве.\n",
      "\n",
      "6 (true: 1) (model: 0.29377): В разное время в армии Майсура состояло от 1200 до 5000 ракетчиков.\n",
      "\n",
      "7 (true: 0) (model: 0.27116): Упоминания в летописи.\n",
      "\n",
      "8 (true: 0) (model: 0.2661): В 1236 году после успешного киевского похода Ярослав уехал из Новгорода княжить в Киев (оттуда в 1238 году — во Владимир).\n",
      "\n",
      "9 (true: 0) (model: 0.26079): В 1963 году защитил кандидатскую диссертацию, в 1986 — докторскую диссертацию.\n",
      "\n",
      "10 (true: 0) (model: 0.26079): Через год переехал в Москву в связи с переводом отца.\n",
      "\n",
      "####################\n",
      "\n",
      "Query 2: От 500-килограммовой бомбы жилой дом будущего академика в годы войны спасла бочка с вином.\n",
      "\n",
      "NDCG: 0.3562071871080222\n",
      "Top 10:\n",
      "\n",
      "1 (true: 0) (model: 0.42514): В годы Великой Отечественной войны проживал в Москве.\n",
      "\n",
      "2 (true: 0) (model: 0.38127): Ранние годы.\n",
      "\n",
      "3 (true: 0) (model: 0.37233): Ракеты применялись в войнах с XIII века.\n",
      "\n",
      "4 (true: 0) (model: 0.34703): Через год переехал в Москву в связи с переводом отца.\n",
      "\n",
      "5 (true: 0) (model: 0.32924): С 2000 года его издание переведено в Москву.\n",
      "\n",
      "6 (true: 2) (model: 0.299): Ю. Б. Айзенберг поделился воспоминаниями о том, как в годы войны его дом от разрушения авиационной 500-килограмовой бомбой спасла стоящая в подвале большая бочка с вином треста «Арарат»: бомба, пробившая все этажи, угодила в подвал и упала в ёмкость, наполненную вином, но не разорвалась и была извлечена с помощью подъёмного крана.\n",
      "\n",
      "7 (true: 0) (model: 0.28032): Во время Великой Отечественной войны с 1943 по 1944 годы был в эвакуации в городе Туринске.\n",
      "\n",
      "8 (true: 0) (model: 0.27261): Англо-майсурские войны.\n",
      "\n",
      "9 (true: 0) (model: 0.27131): Упоминания в летописи.\n",
      "\n",
      "10 (true: 0) (model: 0.26094): В 1963 году защитил кандидатскую диссертацию, в 1986 — докторскую диссертацию.\n",
      "\n",
      "####################\n",
      "\n",
      "Query 3: Согласно «Повести о житии Александра Невского», Бог — не в силе, а в правде.\n",
      "\n",
      "NDCG: 0.9277033899112147\n",
      "Top 10:\n",
      "\n",
      "1 (true: 2) (model: 0.8426): Не в силе Бог, а в правде.\n",
      "\n",
      "2 (true: 1) (model: 0.48698): Восходит к первой версии «Повести о житии» Александра Невского.\n",
      "\n",
      "3 (true: 2) (model: 0.39335): «Не в силе Бог, а в правде» - русский религиозно-политический афоризм, получивший большую степень распространения в современной России.\n",
      "\n",
      "4 (true: 1) (model: 0.38206): Невская битва.\n",
      "\n",
      "5 (true: 1) (model: 0.28911): Доктор политических наук Б. Ф. Мартынов считает формулу «Не в силе Бог, а в правде!» основой особой, «российской» версии теории политического реализма.\n",
      "\n",
      "6 (true: 1) (model: 0.28748): Конкретные качества Бога (или богов) неодинаковы в различных религиях.\n",
      "\n",
      "7 (true: 1) (model: 0.27154): Упоминания в летописи.\n",
      "\n",
      "8 (true: 0) (model: 0.2414): Однако в 1996 году В. А. Кучкин выразил мнение, что факт княжеского пострига в 1223 году не находит убедительного подтверждения в источниках.\n",
      "\n",
      "9 (true: 1) (model: 0.23893): Доктор философских наук, кандидат богословия, историк философии Дмитрий Лескин считает, что слова «Не в силе Бог, но в правде» выражают основу русского миропонимания.\n",
      "\n",
      "10 (true: 1) (model: 0.23821): В большей части религий Бог — личностное существо (в большинстве ветвей христианства Бог един в трёх лицах — Пресвятая Троица), однако в некоторых религиозных учениях (имперсонализм) Бог безличен.\n",
      "\n",
      "####################\n",
      "\n"
     ]
    }
   ],
   "source": [
    "make_report(docs, qs, scores, scores_prop_09)"
   ]
  },
  {
   "cell_type": "code",
   "execution_count": 27,
   "id": "71317a30",
   "metadata": {},
   "outputs": [
    {
     "data": {
      "text/plain": [
       "1.0"
      ]
     },
     "execution_count": 27,
     "metadata": {},
     "output_type": "execute_result"
    }
   ],
   "source": [
    "docs_tfs.sum(0)[lemma2id['бочка']]"
   ]
  },
  {
   "cell_type": "code",
   "execution_count": null,
   "id": "e79672db",
   "metadata": {},
   "outputs": [],
   "source": []
  }
 ],
 "metadata": {
  "kernelspec": {
   "display_name": "Python 3 (ipykernel)",
   "language": "python",
   "name": "python3"
  },
  "language_info": {
   "codemirror_mode": {
    "name": "ipython",
    "version": 3
   },
   "file_extension": ".py",
   "mimetype": "text/x-python",
   "name": "python",
   "nbconvert_exporter": "python",
   "pygments_lexer": "ipython3",
   "version": "3.9.12"
  }
 },
 "nbformat": 4,
 "nbformat_minor": 5
}
